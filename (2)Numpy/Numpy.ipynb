{
 "cells": [
  {
   "cell_type": "code",
   "execution_count": 1,
   "id": "1af29684-c422-488a-b3c3-7c88e6693693",
   "metadata": {},
   "outputs": [
    {
     "name": "stdout",
     "output_type": "stream",
     "text": [
      "[1, 2, 3]\n",
      "<class 'list'>\n",
      "[1 2 3]\n",
      "<class 'numpy.ndarray'>\n",
      "(3,)\n"
     ]
    }
   ],
   "source": [
    "import numpy as np\n",
    "#Making of numpy-array using the normal array\n",
    "a=[1,2,3]\n",
    "#Conversion of normal array into numpy-arrray\n",
    "b=np.array(a) #this will make numpyArray from normal array given as argument\n",
    "\n",
    "print(a)\n",
    "print(type(a))\n",
    "print(b)\n",
    "print(type(b))\n",
    "print(b.shape)"
   ]
  },
  {
   "cell_type": "markdown",
   "id": "7625dc57-7242-4b8b-81f4-2d8730e060e6",
   "metadata": {},
   "source": [
    "### Numpy can only have homogeous types of data if any hetrogenous data comes, automatically all are converted into strings:\n",
    "* **for getting in hetrogenous into homogenous \"dtype\" function is used, but it supports only possible conversions**"
   ]
  },
  {
   "cell_type": "code",
   "execution_count": 2,
   "id": "7b9291ea-1ae6-44cd-b8fc-2cba40a3e170",
   "metadata": {},
   "outputs": [
    {
     "name": "stdout",
     "output_type": "stream",
     "text": [
      "['1' '2' '3' '32.3423' 'Anshuman' '34.3']\n",
      "<class 'numpy.ndarray'>\n",
      "<class 'numpy.str_'>\n"
     ]
    }
   ],
   "source": [
    "a=[1,2,3,32.3423,'Anshuman',34.3]\n",
    "b=np.array(a)\n",
    "print(b)\n",
    "print(type(b))\n",
    "print(type(b[2]))"
   ]
  },
  {
   "cell_type": "code",
   "execution_count": 3,
   "id": "f6ecd7cf-c706-45f3-a7f1-5e385a72d050",
   "metadata": {},
   "outputs": [
    {
     "name": "stdout",
     "output_type": "stream",
     "text": [
      "(4,)\n"
     ]
    }
   ],
   "source": [
    "a=np.array([0,1,2,3])\n",
    "print(a.shape)#This will return (4,) as it returns tupple bcz shape could be 2d or 3d, here is 1d so empty value after 1d\n"
   ]
  },
  {
   "cell_type": "code",
   "execution_count": 4,
   "id": "d1af58a8-e8c7-4f7a-be22-ee5f1c195e84",
   "metadata": {},
   "outputs": [
    {
     "name": "stdout",
     "output_type": "stream",
     "text": [
      "[ 1  2  3 32 34]\n",
      "<class 'numpy.ndarray'>\n"
     ]
    }
   ],
   "source": [
    "#Conversion of hetrogenous(string) into homogenous:int\n",
    "a=[1,2,3,32.3423,34.3] #\"Anshuman\" string had to be removed as string cannot be converted into int\n",
    "b=np.array(a,dtype=int)\n",
    "print(b)\n",
    "print(type(b))\n"
   ]
  },
  {
   "cell_type": "code",
   "execution_count": 5,
   "id": "2d44a224-1ac6-4d8a-98d7-6f9dc055389f",
   "metadata": {},
   "outputs": [
    {
     "name": "stdout",
     "output_type": "stream",
     "text": [
      "[ 1.      2.      3.     32.3423 34.3     1.      2.      3.     32.3423\n",
      " 34.3     1.      2.      3.     32.3423 34.3   ]\n",
      "<class 'numpy.float64'>\n",
      "<class 'numpy.ndarray'>\n"
     ]
    }
   ],
   "source": [
    "#Making of reapating numpy-array\n",
    "a=[1,2,3,32.3423,34.3] #\"Anshuman\" string had to be removed as string cannot be converted into int\n",
    "b=np.array(a*3)\n",
    "print(b)\n",
    "print(type(b[2]))\n",
    "print(type(b))\n"
   ]
  },
  {
   "cell_type": "code",
   "execution_count": 6,
   "id": "29b0f852-d98d-4e82-828a-fbf5d00206e5",
   "metadata": {},
   "outputs": [
    {
     "name": "stdout",
     "output_type": "stream",
     "text": [
      "<class 'numpy.float64'>\n",
      "[1. 1. 1.]\n",
      "<class 'numpy.int32'>\n",
      "[1 1 1]\n"
     ]
    }
   ],
   "source": [
    "#Using np.ones bydefault-type:float\n",
    "#Making numpyArray of containing only 1-type:Float-bydefault\n",
    "b=np.ones(3)#Makes numpy_array contining number of ones as per the argument and bydefault-valu=float\n",
    "print(type(b[0]))\n",
    "print(b)\n",
    "\n",
    "#Converting them into int:\n",
    "b=np.ones(3,dtype=int)\n",
    "print(type(b[1]))\n",
    "print(b)"
   ]
  },
  {
   "cell_type": "code",
   "execution_count": 7,
   "id": "441a3083-55eb-48d6-b75b-6a4b5a612164",
   "metadata": {},
   "outputs": [
    {
     "name": "stdout",
     "output_type": "stream",
     "text": [
      "<class 'numpy.float64'>\n",
      "[0. 0. 0.]\n",
      "<class 'numpy.int32'>\n",
      "[0 0 0]\n"
     ]
    }
   ],
   "source": [
    "#Using np.zeros bydefault-type:float\n",
    "#Making of numpyArray of containing only 0-type:float-bydefault\n",
    "b=np.zeros(3)#makes numpy_array containing 0s number determined by the argument\n",
    "print(type(b[1]))\n",
    "print(b)\n",
    "\n",
    "#Converting them into int\n",
    "b=np.zeros(3,dtype=int)\n",
    "print(type(b[1]))\n",
    "print(b)"
   ]
  },
  {
   "cell_type": "code",
   "execution_count": 8,
   "id": "e345ebd0-3cd5-411e-8384-dc726e7e5eb3",
   "metadata": {},
   "outputs": [
    {
     "name": "stdout",
     "output_type": "stream",
     "text": [
      "[5. 5. 5.]\n"
     ]
    }
   ],
   "source": [
    "#Using np.full() bydefault-type:int\n",
    "#Its takes argument first for dimension or number of repetation and then for the value\n",
    "b=np.full(3,5,dtype=float) #Create an array of size of repeation as first arg and value as second \n",
    "print(b)"
   ]
  },
  {
   "cell_type": "code",
   "execution_count": 9,
   "id": "b4e3a8a8-2e57-4a62-b62a-b81e70288aaa",
   "metadata": {},
   "outputs": [
    {
     "name": "stdout",
     "output_type": "stream",
     "text": [
      "[2.12199579e-314 6.36598737e-314]\n"
     ]
    }
   ],
   "source": [
    "#Using np.empty():used to generate array of random numbers\n",
    "#It takes size-argument and dtype only not value required as generates random one\n",
    "b=np.empty(2)\n",
    "print(b)"
   ]
  },
  {
   "cell_type": "code",
   "execution_count": 10,
   "id": "02aab285-6e81-4581-a2ad-5279214847ee",
   "metadata": {},
   "outputs": [
    {
     "name": "stdout",
     "output_type": "stream",
     "text": [
      "[0.91356275 0.17990525 0.99591873]\n",
      "[6.45133994 2.76962876 4.96777529]\n"
     ]
    }
   ],
   "source": [
    "#np.randaom.rand():Takes size as input and generated random values ranged between(0to1)\n",
    "b=np.random.rand(3) #range 0 to 1\n",
    "print(b)\n",
    "# by multiplying number with funciton inreases the range\n",
    "c=np.random.rand(3)*10 #range 0 to 10\n",
    "print(c)"
   ]
  },
  {
   "cell_type": "code",
   "execution_count": 11,
   "id": "fd626489-eb67-40ed-9a54-ff53ea2ca865",
   "metadata": {},
   "outputs": [
    {
     "name": "stdout",
     "output_type": "stream",
     "text": [
      "[1 4 2]\n"
     ]
    }
   ],
   "source": [
    "#np.random.randint(low,high,size,dtype):generated random nd-array\n",
    "#low is compulsory and inclusive,deafult=0\n",
    "#high is optional and exclusive\n",
    "#size can nd\n",
    "a=np.random.randint(1,5,3)\n",
    "print(a)"
   ]
  },
  {
   "cell_type": "code",
   "execution_count": 12,
   "id": "a6161cb6-2a85-4660-9ae9-4dff5fa505fd",
   "metadata": {},
   "outputs": [
    {
     "name": "stdout",
     "output_type": "stream",
     "text": [
      "[0 1 2 3 4 5 6 7 8 9]\n",
      "<class 'numpy.int32'>\n",
      "\n",
      "[0 1 2 3 4 5 6 7 8 9]\n",
      "<class 'numpy.int32'>\n"
     ]
    }
   ],
   "source": [
    "# Creating NumpyArray using \"np.arange(start,stop,step,dtype)\"\"\n",
    "#Start is bydefault=0,stop is exclusive,step-bydefault=(+1),default:int\n",
    "#Mandtory:\"stop\" only\n",
    "a=np.arange(0,10,1)\n",
    "print(a)\n",
    "print(type(a[1]))\n",
    "print()\n",
    "b=np.arange(10)\n",
    "print(b)\n",
    "print(type(b[1]))"
   ]
  },
  {
   "cell_type": "code",
   "execution_count": 13,
   "id": "ef904234-7373-4794-a293-a7e357df6f73",
   "metadata": {},
   "outputs": [
    {
     "name": "stdout",
     "output_type": "stream",
     "text": [
      "2.0408163265306123\n",
      "2.040816326530612\n",
      "[  0.           2.04081633   4.08163265   6.12244898   8.16326531\n",
      "  10.20408163  12.24489796  14.28571429  16.32653061  18.36734694\n",
      "  20.40816327  22.44897959  24.48979592  26.53061224  28.57142857\n",
      "  30.6122449   32.65306122  34.69387755  36.73469388  38.7755102\n",
      "  40.81632653  42.85714286  44.89795918  46.93877551  48.97959184\n",
      "  51.02040816  53.06122449  55.10204082  57.14285714  59.18367347\n",
      "  61.2244898   63.26530612  65.30612245  67.34693878  69.3877551\n",
      "  71.42857143  73.46938776  75.51020408  77.55102041  79.59183673\n",
      "  81.63265306  83.67346939  85.71428571  87.75510204  89.79591837\n",
      "  91.83673469  93.87755102  95.91836735  97.95918367 100.        ]\n"
     ]
    }
   ],
   "source": [
    "#Creating NumpyArray using \"np.linspace(start,stop,num,endpoint,retstep,dtype,axis)\"\n",
    "#start and stop are both inclusive unlike arange where stop is excluded\n",
    "#start is mandtory,stop-mandtory\n",
    "#num:number of samples to generate is given:defaultVal=50 ,it will decide what is stepValue according to the sample\n",
    "#default type=float,endpoint=True->bydefault which will include the stop else not\n",
    "#retStep=True:returns=step,axis=0,means operation done in rowise(default) else coloumnwise ,1 requires 2d dimension whereas 0 is default 1D\n",
    "a=np.linspace(0,100)\n",
    "print(a[2]-a[1])#Will give the stepValue chosen by the function\n",
    "print(a[4]-a[3])#DoubleCheck of stepvalue\n",
    "print(a)"
   ]
  },
  {
   "cell_type": "code",
   "execution_count": 14,
   "id": "20a551e5-e810-416f-afa1-1411ac268c53",
   "metadata": {},
   "outputs": [
    {
     "name": "stdout",
     "output_type": "stream",
     "text": [
      "(array([ 1.  ,  3.25,  5.5 ,  7.75, 10.  ]), 2.25)\n"
     ]
    }
   ],
   "source": [
    "a=np.linspace(1,10,5,retstep=True)\n",
    "print(a)#Will give array with stepValue written at the end"
   ]
  },
  {
   "cell_type": "markdown",
   "id": "408a2582-2946-4dc9-b928-59b375af0cde",
   "metadata": {},
   "source": [
    "### Diference between np.arange and np.linspace is that :\n",
    "* **In in np.arange, we have control over step value**\n",
    "* **In np.linspace, we have control over the samples to generated**"
   ]
  },
  {
   "cell_type": "markdown",
   "id": "e89f1bfb-8a39-43a5-97c8-b6f0ad37caab",
   "metadata": {},
   "source": [
    "## Creation 2D Numpyarray"
   ]
  },
  {
   "cell_type": "code",
   "execution_count": 15,
   "id": "ef09e5f3-8ec1-4d27-9e91-c35e4efa6d9d",
   "metadata": {},
   "outputs": [
    {
     "name": "stdout",
     "output_type": "stream",
     "text": [
      "<class 'numpy.int32'>\n",
      "[[1 1 1]\n",
      " [1 1 1]]\n"
     ]
    }
   ],
   "source": [
    "#Just add argument defining (row,coloumn) in place arg defining dimension or number of repetaion\n",
    "c=np.ones((2,3),dtype=int)\n",
    "print(type(c[1][1]))\n",
    "print(c)"
   ]
  },
  {
   "cell_type": "code",
   "execution_count": 16,
   "id": "19503363-dd58-4fa2-8d59-e5c990d2738b",
   "metadata": {},
   "outputs": [
    {
     "name": "stdout",
     "output_type": "stream",
     "text": [
      "[[0 0 0]\n",
      " [0 0 0]\n",
      " [0 0 0]]\n"
     ]
    }
   ],
   "source": [
    "#2D array for zeros\n",
    "c=np.zeros((3,3),dtype=int)\n",
    "print(c)"
   ]
  },
  {
   "cell_type": "code",
   "execution_count": 17,
   "id": "e0b06b3e-79ba-438f-a914-b9ea01a130ca",
   "metadata": {},
   "outputs": [
    {
     "name": "stdout",
     "output_type": "stream",
     "text": [
      "[[5 5 5]\n",
      " [5 5 5]]\n"
     ]
    }
   ],
   "source": [
    "#2d array for any inputed-same-random value\n",
    "c=np.full((2,3),5,dtype=int)\n",
    "print(c)"
   ]
  },
  {
   "cell_type": "code",
   "execution_count": 18,
   "id": "802e9453-5c8c-485a-b87d-565829c11304",
   "metadata": {},
   "outputs": [
    {
     "name": "stdout",
     "output_type": "stream",
     "text": [
      "[[ 240556494 1075433004]\n",
      " [ 535376820 1074145331]\n",
      " [2080977034 1075044096]]\n"
     ]
    }
   ],
   "source": [
    "#2d array of any andom value genrated by the compilier basically garbage value \n",
    "c=np.empty((3,2),dtype=int)\n",
    "print(c)"
   ]
  },
  {
   "cell_type": "code",
   "execution_count": 19,
   "id": "a345f8d7-3136-47b1-807e-3714e440aa87",
   "metadata": {},
   "outputs": [
    {
     "name": "stdout",
     "output_type": "stream",
     "text": [
      "[[1, 2, 3], [4, 5, 6], [7, 8, 9]]\n",
      "[[1 2 3]\n",
      " [4 5 6]\n",
      " [7 8 9]]\n"
     ]
    }
   ],
   "source": [
    "#Problem:6 converting normal 2d list into numpy 2d Array\n",
    "List=[[1,2,3],[4,5,6],[7,8,9]]\n",
    "NumpyArray=np.array(List)\n",
    "print(List)\n",
    "print(NumpyArray)"
   ]
  },
  {
   "cell_type": "code",
   "execution_count": 20,
   "id": "91b7c667-28b8-438e-96a9-443f97241a10",
   "metadata": {},
   "outputs": [
    {
     "name": "stdout",
     "output_type": "stream",
     "text": [
      "[0 0 0 0]\n",
      "[1]\n",
      "[0 0 0 0 0]\n",
      "[0 0 0 0 1]\n",
      "[0 0 0 0 1 0 0 0 0 0]\n"
     ]
    }
   ],
   "source": [
    "#Problem: 7, making numpy-array of size-10 in which all are 0 but 5th one is 1\n",
    "#np.append, used to merge only 2 numpy arrays into one-new variable\n",
    "a=np.zeros(4,dtype=int)\n",
    "print(a)\n",
    "b=np.ones(1,dtype=int)\n",
    "print(b)\n",
    "c=np.zeros(5,dtype=int)\n",
    "print(c)\n",
    "\n",
    "#Using np.append-only merging 2 at a time into new var\n",
    "d=np.append(a,b)\n",
    "print(d)\n",
    "e=np.append(d,c)\n",
    "print(e)"
   ]
  },
  {
   "cell_type": "code",
   "execution_count": 21,
   "id": "617fe408-663a-4524-98ff-a2cb64b88be1",
   "metadata": {},
   "outputs": [
    {
     "name": "stdout",
     "output_type": "stream",
     "text": [
      "[[0.94396844 0.71309089 0.78507726 0.83807642]\n",
      " [0.9375001  0.89917416 0.25285579 0.32606143]]\n",
      "[[41.69460096 74.77840437 55.97621214 58.66004039]\n",
      " [ 9.36241742 31.30922048 15.7924445  41.56791944]]\n"
     ]
    }
   ],
   "source": [
    "#2d matrix of generating random values between 0 to 1 \n",
    "b=np.random.rand(2,4)\n",
    "print(b)\n",
    "# by multiplying number with range can increase the range\n",
    "c=np.random.rand(2,4)*100\n",
    "print(c)"
   ]
  },
  {
   "cell_type": "code",
   "execution_count": 22,
   "id": "903fdb3c-fbe9-4c77-9887-520ad6b3cdd4",
   "metadata": {},
   "outputs": [
    {
     "name": "stdout",
     "output_type": "stream",
     "text": [
      "[[3 1 2]\n",
      " [3 1 4]]\n"
     ]
    }
   ],
   "source": [
    "#np.random.randint(low,high,size,dtype):generated random nd-array\n",
    "#low is compulsory and inclusive,deafult=0\n",
    "#high is optional and exclusive\n",
    "#size can nd\n",
    "a=np.random.randint(1,5,size=(2,3))\n",
    "print(a)"
   ]
  },
  {
   "cell_type": "markdown",
   "id": "34f68a03-1c50-4ffc-aad0-bd0816756c59",
   "metadata": {},
   "source": [
    "## Matrix"
   ]
  },
  {
   "cell_type": "code",
   "execution_count": 23,
   "id": "cb5f75a1-7c94-44da-8a75-583559607c88",
   "metadata": {},
   "outputs": [
    {
     "name": "stdout",
     "output_type": "stream",
     "text": [
      "[[1 0 0]\n",
      " [0 1 0]\n",
      " [0 0 1]]\n"
     ]
    }
   ],
   "source": [
    "#np.identity used for making Identiy-Matrix of given arg as dimension\n",
    "#Takes only one intput-arg as input-dimension\n",
    "a=np.identity(3,dtype=\"int\")\n",
    "print(a)"
   ]
  },
  {
   "cell_type": "code",
   "execution_count": 24,
   "id": "def52159-9eef-4f97-8b6b-434187184fd7",
   "metadata": {},
   "outputs": [
    {
     "name": "stdout",
     "output_type": "stream",
     "text": [
      "[[1 0 0]\n",
      " [0 1 0]]\n",
      "(2, 3)\n"
     ]
    }
   ],
   "source": [
    "#np.eye takes 2-inputs as argument for matrix-dimension and gives identity matrix\n",
    "a=np.eye(2,3,dtype='int')\n",
    "print(a)\n",
    "print(a.shape)"
   ]
  },
  {
   "cell_type": "markdown",
   "id": "bf63514b-d3b1-4ffc-9487-364584aef48c",
   "metadata": {},
   "source": [
    "## NumpyArray characterstics:"
   ]
  },
  {
   "cell_type": "code",
   "execution_count": 25,
   "id": "e5027feb-e093-4feb-b5d7-4ecf3035e4b2",
   "metadata": {},
   "outputs": [
    {
     "name": "stdout",
     "output_type": "stream",
     "text": [
      "[1 2 3 4 5]\n",
      "<memory at 0x000001DB798D9900>\n",
      "(5,)\n",
      "int32\n",
      "(4,)\n"
     ]
    }
   ],
   "source": [
    "import numpy as np\n",
    "#numpy array is a collection of pointers which points 4 different attribute\n",
    "li=[1,2,3,4,5]\n",
    "arr=np.array(li)\n",
    "print(arr)\n",
    "print(arr.data)#points to first element of the array\n",
    "print(arr.shape)#represents size of the array\n",
    "print(arr.dtype)#represents the the data-type \n",
    "print(arr.strides)#represents number of bytes to be skipped to get to the next element "
   ]
  },
  {
   "cell_type": "code",
   "execution_count": 26,
   "id": "14c05630-37d8-4b00-9fc0-77a5f5c2e594",
   "metadata": {},
   "outputs": [
    {
     "name": "stdout",
     "output_type": "stream",
     "text": [
      "[[1, 2, 3], [4, 5, 6], [6, 7, 8], [12, 23, 34]]\n",
      "[[ 1  2  3]\n",
      " [ 4  5  6]\n",
      " [ 6  7  8]\n",
      " [12 23 34]]\n",
      "<memory at 0x000001DB798FC520>\n",
      "(4, 3)\n",
      "int32\n",
      "(12, 4)\n"
     ]
    }
   ],
   "source": [
    "li_2d=[[1,2,3],[4,5,6],[6,7,8],[12,23,34]]\n",
    "arr_2d=np.array(li_2d)\n",
    "\n",
    "print(li_2d)\n",
    "print(arr_2d)\n",
    "print(arr_2d.data)#points to first element of the array\n",
    "print(arr_2d.shape)#represents size of the array\n",
    "print(arr_2d.dtype)#represents the the data-type \n",
    "print(arr_2d.strides)#represents number of bytes to be skipped to get to the next element \n",
    "#In stride, we get (12,4), means for going to next row we have to skip 3 integers means 3x4=12 bytes\n",
    "#but for going to next coloumn just skip one integer means 4bytes\n"
   ]
  },
  {
   "cell_type": "markdown",
   "id": "fc453a00-0a9e-45cf-a2fe-3dbcb81b0c78",
   "metadata": {},
   "source": [
    "## Slicing and indexing:\n"
   ]
  },
  {
   "cell_type": "code",
   "execution_count": 27,
   "id": "27fc0755-696f-4090-ad55-fee289ae9e2e",
   "metadata": {},
   "outputs": [
    {
     "name": "stdout",
     "output_type": "stream",
     "text": [
      "3\n",
      "3\n",
      "[2, 3, 4]\n",
      "[2 3 4]\n"
     ]
    }
   ],
   "source": [
    "#Slicing of Numpy-1D Array is same as normal array:\n",
    "li=[1,2,3,4,5]\n",
    "arr=np.array(li)\n",
    "print(li[2])\n",
    "print(arr[2])\n",
    "print(li[1:4])\n",
    "print(arr[1:4])"
   ]
  },
  {
   "cell_type": "code",
   "execution_count": 28,
   "id": "1885dd97-37c2-477c-8597-3c8ba5580432",
   "metadata": {},
   "outputs": [
    {
     "name": "stdout",
     "output_type": "stream",
     "text": [
      "[[ 1  2  3  4]\n",
      " [ 5  6  7  8]\n",
      " [ 9 10 11 12]\n",
      " [13 14 15 16]]\n",
      "6\n",
      "7\n",
      "10\n",
      "FixRow for Li: [5, 6, 7]\n",
      "FixRow for Arr: [5 6 7]\n",
      "FixedColoumn for Li: [5, 6, 7, 8]\n",
      "[[1, 2, 3, 4], [5, 6, 7, 8], [9, 10, 11, 12]]\n",
      "[5, 6, 7, 8]\n",
      "FixedColoumn for Arr: [ 4  8 12]\n",
      "[[10 11]\n",
      " [14 15]]\n",
      "[[13, 14, 15, 16]]\n"
     ]
    }
   ],
   "source": [
    "# Slicing of 2D NumpyArray:\n",
    "li_2d=[[1,2,3,4],[5,6,7,8],[9,10,11,12],[13,14,15,16]]\n",
    "arr_2d=np.array(li_2d)\n",
    "\n",
    "print(arr_2d) #whille working with 2D, refer to this diagram in which rows are(0,1,2,3) and col are(0,1,2,3)\n",
    "\n",
    "#[][]:row,coloumn\n",
    "print(li_2d[1][1])\n",
    "print(arr_2d[1 ,2])\n",
    "# print(li_2d[2,1]) #Error\n",
    "print(arr_2d[2,1])#Only in numpy2d Array could write this way also\n",
    "\n",
    "#SLicing\n",
    "#fix row and vary coloumn selection:[5,6,7]\n",
    "print(\"FixRow for Li:\",li_2d[1][:3]) \n",
    "print(\"FixRow for Arr:\",arr_2d[1,:3]) \n",
    "\n",
    "#Fix coloumn and vary row selection(little-bit different):[4,8,12]\n",
    "print(\"FixedColoumn for Li:\",li_2d[:3][1] )#This is different bcz li_2d[:3] becomes another array and giving coloumn as input becomes selection index of that array\n",
    "x=li_2d[:3]#Becomes a separate array\n",
    "print(x)#printed and checked\n",
    "print(x[1])#given coloumn interpreted as index of that new_array not expexted \n",
    "\n",
    "print(\"FixedColoumn for Arr:\",arr_2d[:3,3])#got answer as expected\n",
    "\n",
    "#Vary row and var col: [10,11],[14,15]\n",
    "print(arr_2d[2:4,1:3]) #got ans as expected\n",
    "print(li_2d[2:4][1:3]) #not expexted ans\n",
    "\n",
    "#Therefore 2d array problem Numpy array are best"
   ]
  },
  {
   "cell_type": "code",
   "execution_count": 29,
   "id": "5beb8796-0aae-4981-b77c-31988e53af30",
   "metadata": {},
   "outputs": [
    {
     "name": "stdout",
     "output_type": "stream",
     "text": [
      "[[ 1  2  3  4  5]\n",
      " [ 6  7  8  9 10]\n",
      " [11 12 13 14 15]\n",
      " [16 17 18 19 20]]\n",
      "(4, 5)\n",
      "1: [11 12 13]\n",
      "2: [ 9 14 19]\n",
      "3: [[11 12 13 14 15]\n",
      " [16 17 18 19 20]]\n",
      "4: [[ 7  8]\n",
      " [12 13]]\n"
     ]
    }
   ],
   "source": [
    "#Problems:\n",
    "li_2d=[[1,2,3,4,5],[6,7,8,9,10],[11,12,13,14,15],[16,17,18,19,20]]\n",
    "arr_2d=np.array(li_2d)\n",
    "print(arr_2d)\n",
    "print(arr_2d.shape)\n",
    "\n",
    "print(\"1:\",arr_2d[2,:3])\n",
    "print(\"2:\",arr_2d[1:4,3])\n",
    "print(\"3:\",arr_2d[2:5,])\n",
    "print(\"4:\",arr_2d[1:3,1:3])"
   ]
  },
  {
   "cell_type": "markdown",
   "id": "25db490d-1b6c-46ff-b1df-366b1e41114f",
   "metadata": {},
   "source": [
    "## Mathematical Operations"
   ]
  },
  {
   "cell_type": "code",
   "execution_count": 30,
   "id": "46f5994d-63dc-4df0-b5e5-a0dbe9781518",
   "metadata": {},
   "outputs": [
    {
     "name": "stdout",
     "output_type": "stream",
     "text": [
      "[1, 2, 3, 4, 5]\n",
      "[11 12 16 15  5]\n",
      "[ 1 10 12 18  9]\n",
      "\n",
      "[2, 3, 4, 5, 6]\n",
      "\n",
      "[12 13 17 16  6]\n"
     ]
    }
   ],
   "source": [
    "## li=[1,2,3,4,5,6]\n",
    "a=np.random.randint(1,20,5)\n",
    "b=np.random.randint(1,20,5)\n",
    "\n",
    "print(li)\n",
    "print(a)\n",
    "print(b)\n",
    "print()\n",
    "#Adding 1 to every element of the list\n",
    "#In case of list, iteration to each element should take place:\n",
    "li=[i+1 for i in li]\n",
    "print(li)\n",
    "print()\n",
    "#In case of numpy array:Simply add 1 to array, will automatically add with all\n",
    "#That is the significance of numpyArray,its quite fast bcz it used vectorisation\n",
    "a+=1\n",
    "print(a)\n"
   ]
  },
  {
   "cell_type": "code",
   "execution_count": 31,
   "id": "af335a5e-fe38-45bf-8310-76aa2cce0d91",
   "metadata": {},
   "outputs": [
    {
     "name": "stdout",
     "output_type": "stream",
     "text": [
      "[13 23 29 34 15]\n"
     ]
    }
   ],
   "source": [
    "#Addition of 2-Arrays:\n",
    "#in normal array we have to iterate to every item but \n",
    "#in numpy Array by use of vectorisation , with the help of lesser loop all could be done at once\n",
    "c=a+b\n",
    "print(c)"
   ]
  },
  {
   "cell_type": "code",
   "execution_count": 32,
   "id": "c09d9cbd-5893-437f-af70-28487bbeff82",
   "metadata": {},
   "outputs": [
    {
     "name": "stdout",
     "output_type": "stream",
     "text": [
      "[12 13 17 16  6]\n",
      "[ 1 10 12 18  9]\n"
     ]
    },
    {
     "data": {
      "text/plain": [
       "array([11,  3,  5, -2, -3])"
      ]
     },
     "execution_count": 32,
     "metadata": {},
     "output_type": "execute_result"
    }
   ],
   "source": [
    "#Substraction of 2-Arrays\n",
    "print(a)\n",
    "print(b)\n",
    "d=a-b\n",
    "d"
   ]
  },
  {
   "cell_type": "code",
   "execution_count": 33,
   "id": "8d93666d-62c7-4632-8a27-2f7a1aee047e",
   "metadata": {},
   "outputs": [
    {
     "data": {
      "text/plain": [
       "array([ 12, 130, 204, 288,  54])"
      ]
     },
     "execution_count": 33,
     "metadata": {},
     "output_type": "execute_result"
    }
   ],
   "source": [
    "#Multiplication of 2Arrays\n",
    "e=a*b\n",
    "e"
   ]
  },
  {
   "cell_type": "code",
   "execution_count": 34,
   "id": "4cdbd9e2-c273-4988-898d-17c3a51a2952",
   "metadata": {},
   "outputs": [
    {
     "data": {
      "text/plain": [
       "array([12,  1,  1,  0,  0])"
      ]
     },
     "execution_count": 34,
     "metadata": {},
     "output_type": "execute_result"
    }
   ],
   "source": [
    "#Division of 2Arrays\n",
    "f=a//b\n",
    "f"
   ]
  },
  {
   "cell_type": "code",
   "execution_count": 35,
   "id": "0786ff81-74eb-419b-8877-bc6962cc272c",
   "metadata": {},
   "outputs": [
    {
     "data": {
      "text/plain": [
       "array([        12,  419538377, 1333592769,          0,   10077696])"
      ]
     },
     "execution_count": 35,
     "metadata": {},
     "output_type": "execute_result"
    }
   ],
   "source": [
    "#Exponantiation\n",
    "g=a**b #a raised to the power b\n",
    "g"
   ]
  },
  {
   "cell_type": "code",
   "execution_count": 36,
   "id": "5766131b-7314-43ff-b233-61ad50bec009",
   "metadata": {},
   "outputs": [
    {
     "name": "stdout",
     "output_type": "stream",
     "text": [
      "[12 13 17 16  6]\n",
      "64\n",
      "12.8\n",
      "6\n",
      "17\n",
      "4\n",
      "2\n"
     ]
    }
   ],
   "source": [
    "#Other operations:\n",
    "print(a)\n",
    "print(a.sum())\n",
    "print(a.mean())\n",
    "print(a.min())\n",
    "print(a.max())\n",
    "print(a.argmin())#Gives the index of minimum-element\n",
    "print(a.argmax())#Gives the index of maximum element"
   ]
  },
  {
   "cell_type": "code",
   "execution_count": 37,
   "id": "fffdb953-cd31-438f-9e2a-576b0c2accf8",
   "metadata": {},
   "outputs": [
    {
     "name": "stdout",
     "output_type": "stream",
     "text": [
      "[12 13 17 16  6]\n",
      "[ 1 10 12 18  9]\n",
      "[ True  True  True False False]\n",
      "[False False False  True  True]\n",
      "[False False False False False]\n"
     ]
    }
   ],
   "source": [
    "#Relational operation with every iem of the arrays\n",
    "print(a)\n",
    "print(b)\n",
    "print(a>b)\n",
    "print(a<b)\n",
    "print(a==b)"
   ]
  },
  {
   "cell_type": "code",
   "execution_count": 38,
   "id": "02323553-9a7c-4cc4-8abb-733f8bb2e6c2",
   "metadata": {},
   "outputs": [
    {
     "name": "stdout",
     "output_type": "stream",
     "text": [
      "[ True  True  True  True  True]\n",
      "[ True  True  True  True  True]\n",
      "[False False False False False]\n"
     ]
    }
   ],
   "source": [
    "#Logical Operations on every item of the array\n",
    "print(np.logical_or(a,b))\n",
    "print(np.logical_and(a,b))\n",
    "print(np.logical_not(a))"
   ]
  },
  {
   "cell_type": "markdown",
   "id": "f8f3b17e-c874-4cc5-8fde-3b70ef0b8ea6",
   "metadata": {},
   "source": [
    "# Boolean Indexing\n",
    "* Avery powerful technique which we can apply it on our data and required data can be extracted and updated\n"
   ]
  },
  {
   "cell_type": "code",
   "execution_count": 39,
   "id": "08469969-f556-4314-9a4a-88d6b64c86c0",
   "metadata": {},
   "outputs": [
    {
     "name": "stdout",
     "output_type": "stream",
     "text": [
      "[[27 23 12 12 10  5]\n",
      " [14 18 19 10 15 25]\n",
      " [ 4 15 28  1 26 18]\n",
      " [24 23 25 22  3  7]\n",
      " [ 9 12  3 18 15 10]]\n",
      "[[ True  True False False False False]\n",
      " [False False False False False  True]\n",
      " [False False  True False  True False]\n",
      " [ True  True  True  True False False]\n",
      " [False False False False False False]]\n",
      "<class 'numpy.ndarray'>\n",
      "[27 23 25 28 26 24 23 25 22]\n"
     ]
    },
    {
     "data": {
      "text/plain": [
       "array([[100, 100,  12,  12,  10,   5],\n",
       "       [ 14,  18,  19,  10,  15, 100],\n",
       "       [  4,  15, 100,   1, 100,  18],\n",
       "       [100, 100, 100, 100,   3,   7],\n",
       "       [  9,  12,   3,  18,  15,  10]])"
      ]
     },
     "execution_count": 39,
     "metadata": {},
     "output_type": "execute_result"
    }
   ],
   "source": [
    "import numpy as np\n",
    "a=np.random.randint(1,30,(5,6))#Created 5x6 matrix of random value from range 1to29\n",
    "print(a)\n",
    "\n",
    "#Extract thsoe values which are greater than 20,extract them and change them to 100\n",
    "#Extracted matched number's in booleans\n",
    "bool_arr=a>20\n",
    "print(bool_arr)\n",
    "print(type(bool_arr))#The operatio on numpyArray stored in another array is bydefault numpy array\n",
    "#Now extracted those numbers with help of their boolean\n",
    "ans=a[bool_arr]#passed the bool_arr into original, so that only true one comes into ans_array\n",
    "print(ans)\n",
    "a[bool_arr]=100#And replace those true values\n",
    "a\n",
    "#Note:In case of boolean arrays the size should be same"
   ]
  },
  {
   "cell_type": "code",
   "execution_count": 41,
   "id": "c570d135-bd4a-4381-adc1-fdee864cd942",
   "metadata": {},
   "outputs": [
    {
     "name": "stdout",
     "output_type": "stream",
     "text": [
      "[[9 6]\n",
      " [6 2]]\n",
      "[[ True False]\n",
      " [ True False]\n",
      " [ True  True]]\n"
     ]
    }
   ],
   "source": [
    "c=np.random.randint(1,10,(2,2))\n",
    "print(c)\n",
    "c_bool=np.array([[True,False],[True,False],[True,True]])\n",
    "print(c_bool)\n",
    "# c[c_bool]\n",
    "#If the size is not matched then this error comes"
   ]
  },
  {
   "cell_type": "code",
   "execution_count": 42,
   "id": "1a263da4-c977-4f40-a7e3-9f31ecb24bff",
   "metadata": {},
   "outputs": [
    {
     "name": "stdout",
     "output_type": "stream",
     "text": [
      "[[100 100  12  12  10   5]\n",
      " [ 14  18  19  10  15 100]\n",
      " [  4  15 100   1 100  18]\n",
      " [100 100 100 100   3   7]\n",
      " [  9  12   3  18  15  10]]\n",
      "[False False  True False False]\n",
      "[[     100      100       12       12       10        5]\n",
      " [      14       18       19       10       15      100]\n",
      " [       4       15      100 10000000      100       18]\n",
      " [     100      100      100      100        3        7]\n",
      " [       9       12        3       18       15       10]]\n"
     ]
    }
   ],
   "source": [
    "#Only at 4th coloumn extract the number same as 100 update them to 10000000\n",
    "b=a\n",
    "print(b)\n",
    "#Extraction of the matched number in boolean\n",
    "b_bool=b[:,4]==100\n",
    "print(b_bool)\n",
    "\n",
    "b[b_bool,3]=10000000#passed boolean in place of row, as it have selected rows as True for updation\n",
    "print(b)"
   ]
  },
  {
   "cell_type": "code",
   "execution_count": null,
   "id": "61e60c44-2741-4d29-9406-1bb6ba959462",
   "metadata": {},
   "outputs": [],
   "source": [
    "#Only at 2nd row extract the number same as 100 update them to 923084\n",
    "b=a\n",
    "print(b)\n",
    "b_bool=b[1,:]==100\n",
    "print(b_bool)#Extraction of matched number in boolean\n",
    "\n",
    "b[1,b_bool]=923084#passed boolean in place of col, as it have selected col as True for updation\n",
    "print(b)"
   ]
  },
  {
   "cell_type": "markdown",
   "id": "10cd3625-22e3-483b-a022-54cf34edb083",
   "metadata": {},
   "source": [
    "## BroadCasting\n",
    "* Specifies how numpy will treat the unequal size array\n",
    "* **Compatibility comes either the *dimesnion should be equal* or *One of them should have 1 as their dimension and other one should same*.**"
   ]
  },
  {
   "cell_type": "code",
   "execution_count": null,
   "id": "dddaf597-d801-4c25-9aff-8a9215177168",
   "metadata": {},
   "outputs": [],
   "source": [
    "x=np.random.randint(0,10,(3,3))\n",
    "y=np.random.randint(0,10,(3,3))\n",
    "print(x)\n",
    "print(y)\n",
    "ans=x-y#operations are valid the dimensions are same\n",
    "ans"
   ]
  },
  {
   "cell_type": "code",
   "execution_count": null,
   "id": "5bfc6714-861b-4d08-94af-bc00a6a51b54",
   "metadata": {},
   "outputs": [],
   "source": [
    "x=np.random.randint(1,10,(3,3))\n",
    "y=np.random.randint(1,10,(3))#nothing means bydefault one:(3,1)\n",
    "print(x)\n",
    "print(y)\n",
    "ans=x-y#also no error as one of them have diemnsion atleast 1 and other same\n",
    "ans #the one row is operating with ohter row also "
   ]
  },
  {
   "cell_type": "code",
   "execution_count": null,
   "id": "399668b6-e9b5-402a-99dd-a1088478a439",
   "metadata": {},
   "outputs": [],
   "source": [
    "#Using transpose if dimensions are : (x,y) and (y,x)\n",
    "x=np.random.randint(1,10,(2,3))\n",
    "y=np.random.randint(1,10,(3,2))\n",
    "print(x)\n",
    "print(y)\n",
    "# x-y gives error as dimnesion are different\n",
    "#Either use transpose on y or x , to make their dimenion same:\n",
    "y=np.transpose(y)\n",
    "print(y)#Now dimension changd to (2,3) same as x\n",
    "x-y"
   ]
  },
  {
   "cell_type": "code",
   "execution_count": null,
   "id": "790aa9b4-4965-40eb-83c4-579d7ca5d62d",
   "metadata": {},
   "outputs": [],
   "source": [
    "#Using resize():It resizes the dimnsion to the given argument dimension\n",
    "#The new array comes with re-arangemnet of new data or with 0 for extending dimension it adds extra 0s\n",
    "x=np.random.randint(1,10,(3,3))\n",
    "print(x)\n",
    "print(x.resize(2,6))#added extra 0\n",
    "x\n",
    "x.resize(2,4)      \n",
    "print(x)#changed the sequence and deleted 1 as not required"
   ]
  },
  {
   "cell_type": "code",
   "execution_count": null,
   "id": "e9853fef-215e-48e5-833a-7b42ea8e7fd7",
   "metadata": {},
   "outputs": [],
   "source": [
    "#Using reshape():\n",
    "# It resize the dimension but never changes the arrangemnet of the orogninal sequence and never adds extra 0 and never delets them\n",
    "x=np.random.randint(1,10,(2,3))\n",
    "print(x)\n",
    "x.reshape(3,2)"
   ]
  },
  {
   "cell_type": "code",
   "execution_count": null,
   "id": "dc5f1588-9fdf-4db7-b127-c23ba9d5fc19",
   "metadata": {},
   "outputs": [],
   "source": [
    "#Problem:\n",
    "#np.sort(array,axis)\n",
    "li=[[21,20,19,18,17],[16,15,14,13,12],[11,10,9,8,7],[6,5,4,3,2]]\n",
    "a=np.array(li)\n",
    "print(a)\n",
    "np.sort(a,axis=0)\n",
    "# kind:[Quick,merge,heap,stable] sorts.default=Quick\n",
    "#axis-None:flattens the array,defaualt=-1or1:Both same,Sort along the last axis \n",
    "# axis:0:sort along the first axis and bottom goes up and up goes to bottom"
   ]
  },
  {
   "cell_type": "code",
   "execution_count": null,
   "id": "f7780cc7-245b-4c9b-ace9-1b9889aa22cc",
   "metadata": {},
   "outputs": [],
   "source": [
    "#Problem: Make a coulom with entry Killed+wounded\n",
    "import numpy as np\n",
    "import csv\n",
    "\n",
    "file_obj=open('year2017.csv','r')#This method was introduced in FileSystem\n",
    "data=csv.DictReader(file_obj,skipinitialspace=True)\n",
    "killed=[]\n",
    "Wounded=[]\n",
    "country=[]\n",
    "\n",
    "for row in data:\n",
    "    killed.append(row['Killed'])\n",
    "    country.append(row['Country'])\n",
    "    Wounded.append(row[\"Wounded\"])\n",
    "#Each and every value is string\n",
    "print(type(killed[2]))\n",
    "print(type(Wounded[2]))\n",
    "\n",
    "# print(killed)\n",
    "#Conversion of dataItem into int help of numpy:\n",
    "#First we have to deal with missing values\n",
    "#Firstly create numpyArray else np cant be used\n",
    "np_killed=np.array(killed)\n",
    "print(np_killed)\n",
    "np_wounded=np.array(Wounded)\n",
    "print(np_wounded)\n",
    "\n",
    "#We have to replace the missing values with zero, as if we delete them then arrays got smaller and killed+Wound for the reapective row would be different\n",
    "#This could be done by boolean indexing\n",
    "bool_killed=np_killed==''\n",
    "print(bool_killed)#Got the boolean wrt missingValues\n",
    "np_killed[bool_killed]=0#replaced them with zero,True means reaplced by 0 \n",
    "\n",
    "bool_wounded=np_wounded==''\n",
    "print(bool_wounded)\n",
    "np_wounded[bool_wounded]=0\n",
    " \n",
    "#Now there is on missing value present, successfully conversion\n",
    "killed=np.array(np_killed,dtype=int)\n",
    "wounded=np.array(np_wounded,dtype=int)\n",
    "\n",
    "#Killed+Wounded:\n",
    "killed_wounded=killed+wounded\n",
    "\n",
    "#Now we have to know the killed+wounded only of India:\n",
    "#NumpyArray\n",
    "np_country=np.array(country)\n",
    "bool_India=np_country==\"India\"\n",
    "print(bool_India)#Now we places which have India means true else false\n",
    "\n",
    "#The we could transfer this booleans to killed+wound to get only True -values means Indian-Values \n",
    "ans=killed_wounded[bool_India]#This has killed+wounded of India\n",
    "\n",
    "#Now to get the summation\n",
    "print(np.sum(ans))#Total killed+wounded in India\n",
    "print(np.sum(killed_wounded)) #Total killed+wounded in total"
   ]
  }
 ],
 "metadata": {
  "kernelspec": {
   "display_name": "Python 3 (ipykernel)",
   "language": "python",
   "name": "python3"
  },
  "language_info": {
   "codemirror_mode": {
    "name": "ipython",
    "version": 3
   },
   "file_extension": ".py",
   "mimetype": "text/x-python",
   "name": "python",
   "nbconvert_exporter": "python",
   "pygments_lexer": "ipython3",
   "version": "3.10.9"
  }
 },
 "nbformat": 4,
 "nbformat_minor": 5
}
