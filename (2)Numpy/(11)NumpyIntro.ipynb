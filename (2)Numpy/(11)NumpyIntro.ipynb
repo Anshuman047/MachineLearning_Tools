{
 "cells": [
  {
   "cell_type": "markdown",
   "id": "c70efdcb-6d21-4dd5-8c3f-ac1b2a531074",
   "metadata": {},
   "source": [
    "# Numpy requirements and explanations"
   ]
  },
  {
   "cell_type": "markdown",
   "id": "eba83bd7-93d9-4fa5-9e67-368b81c8a574",
   "metadata": {},
   "source": [
    "# Numpy:\n",
    "* Numpy-array always takes memory space than normal-array memory space\n",
    "* In numpy_array, the integer required 8bytes storage, nut in normal python(normal_python-arrray) it required 28 bytes\n",
    "* Numpy array is more time-eff\n",
    "* **Numpy are more convinient in below example very less iteration required iteration required for addition of numpy-array element by element, due to implementation vectorisation which enables to implemnt mathematical operations over multiple elements at once rather than individual as in normal array**\n",
    "* Numpy library lot functions are implimented in optimixed manner for making our work easy\n",
    "* The operation in Numpy library is been written mostly in C lang "
   ]
  },
  {
   "cell_type": "code",
   "execution_count": 41,
   "id": "6fcdc2f0-8892-4a22-a6dd-d0006df8c136",
   "metadata": {},
   "outputs": [
    {
     "name": "stdout",
     "output_type": "stream",
     "text": [
      "[0, 1, 2, 3, 4, 5, 6, 7, 8, 9, 10, 11, 12, 13, 14, 15, 16, 17, 18, 19, 20, 21, 22, 23, 24, 25, 26, 27, 28, 29, 30, 31, 32, 33, 34, 35, 36, 37, 38, 39, 40, 41, 42, 43, 44, 45, 46, 47, 48, 49, 50, 51, 52, 53, 54, 55, 56, 57, 58, 59, 60, 61, 62, 63, 64, 65, 66, 67, 68, 69, 70, 71, 72, 73, 74, 75, 76, 77, 78, 79, 80, 81, 82, 83, 84, 85, 86, 87, 88, 89, 90, 91, 92, 93, 94, 95, 96, 97, 98, 99]\n",
      "[ 0  1  2  3  4  5  6  7  8  9 10 11 12 13 14 15 16 17 18 19 20 21 22 23\n",
      " 24 25 26 27 28 29 30 31 32 33 34 35 36 37 38 39 40 41 42 43 44 45 46 47\n",
      " 48 49 50 51 52 53 54 55 56 57 58 59 60 61 62 63 64 65 66 67 68 69 70 71\n",
      " 72 73 74 75 76 77 78 79 80 81 82 83 84 85 86 87 88 89 90 91 92 93 94 95\n",
      " 96 97 98 99]"
     ]
    }
   ],
   "source": [
    "#Defing simple-python array and numpy-array\n",
    "import numpy as np\n",
    "arr=[i for i in range(100)]\n",
    "print(arr,end=\"\")\n",
    "\n",
    "print()\n",
    "\n",
    "np_arr=np.arange(100) #will arrange a list from 0 to 99 but from numpy\n",
    "print(np_arr,end=\"\")\n"
   ]
  },
  {
   "cell_type": "code",
   "execution_count": 42,
   "id": "e12e8118-e1f0-4ac5-9015-de6a99891ea0",
   "metadata": {},
   "outputs": [
    {
     "name": "stdout",
     "output_type": "stream",
     "text": [
      "28\n",
      "4\n"
     ]
    }
   ],
   "source": [
    "#Size of integer:\n",
    "import sys #imported sys, bcz size is determined by system-confirugation\n",
    "a=10\n",
    "print(sys.getsizeof(a))\n",
    "\n",
    "#Size of numpy-array-integer\n",
    "print(np_arr.itemsize)"
   ]
  },
  {
   "cell_type": "code",
   "execution_count": 52,
   "id": "5a549898-a5c1-4a8d-a4e1-d8882fbdfcd5",
   "metadata": {},
   "outputs": [
    {
     "name": "stdout",
     "output_type": "stream",
     "text": [
      "List =  3.021717071533203\n",
      "Numpy = 0.5340576171875\n"
     ]
    }
   ],
   "source": [
    "#Checking of time-taken\n",
    "import time #time-module required for calculation of time\n",
    "import numpy as np\n",
    "\n",
    "size=10000\n",
    "\n",
    "# Add elements of array a and b to get array c and calculate the time required for it:\n",
    "\n",
    "def additionUsingList():\n",
    "    t1=time.time()#This function will return time in sec, when it is executed\n",
    "    a=range(size)\n",
    "    b=range(size)\n",
    "    c=[a[i]+b[i] for i in range(size)] #In normal array iteration required\n",
    "    t2=time.time()\n",
    "    return(t2-t1)\n",
    "\n",
    "def additionUsingNumpy():\n",
    "    t1=time.time()\n",
    "    a=np.arange(size)\n",
    "    b=np.arange(size)\n",
    "    c=a+b         #But here no iteration required\n",
    "    t2=time.time()\n",
    "    return (t2-t1)\n",
    "\n",
    "t_list=additionUsingList()\n",
    "t_numpy=additionUsingNumpy()\n",
    "print('List = ',t_list*1000)# *1000 to get in milliseconds\n",
    "print('Numpy =',t_numpy*1000)"
   ]
  }
 ],
 "metadata": {
  "kernelspec": {
   "display_name": "Python 3 (ipykernel)",
   "language": "python",
   "name": "python3"
  },
  "language_info": {
   "codemirror_mode": {
    "name": "ipython",
    "version": 3
   },
   "file_extension": ".py",
   "mimetype": "text/x-python",
   "name": "python",
   "nbconvert_exporter": "python",
   "pygments_lexer": "ipython3",
   "version": "3.10.9"
  }
 },
 "nbformat": 4,
 "nbformat_minor": 5
}
