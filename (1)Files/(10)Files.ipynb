{
 "cells": [
  {
   "cell_type": "markdown",
   "id": "45bdcaaa-8788-4543-b6c7-bc1405f831e4",
   "metadata": {},
   "source": [
    "# TXT Files"
   ]
  },
  {
   "cell_type": "markdown",
   "id": "8803d360-2bbe-42e1-8cd8-8a8337bf40e7",
   "metadata": {},
   "source": [
    "# Open the file in diff modes"
   ]
  },
  {
   "cell_type": "code",
   "execution_count": 8,
   "id": "4900dbd8-bb81-4cc0-92ea-17dca6e90192",
   "metadata": {},
   "outputs": [
    {
     "name": "stdout",
     "output_type": "stream",
     "text": [
      "<class '_io.TextIOWrapper'>\n"
     ]
    },
    {
     "data": {
      "text/plain": [
       "<_io.TextIOWrapper name='dataset.txt' mode='r' encoding='cp1252'>"
      ]
     },
     "execution_count": 8,
     "metadata": {},
     "output_type": "execute_result"
    }
   ],
   "source": [
    "# Opened the dataset.txt file in same directory in read_mode which is default\n",
    "file_obj=open('dataset.txt')\n",
    "print(type(file_obj)) #returns file-object\n",
    "file_obj"
   ]
  },
  {
   "cell_type": "code",
   "execution_count": 17,
   "id": "8269fe6e-884b-4884-8b53-7b9742377c3d",
   "metadata": {},
   "outputs": [
    {
     "name": "stdout",
     "output_type": "stream",
     "text": [
      "<class '_io.TextIOWrapper'>\n"
     ]
    },
    {
     "data": {
      "text/plain": [
       "<_io.TextIOWrapper name='dataset.txt' mode='a' encoding='cp1252'>"
      ]
     },
     "execution_count": 17,
     "metadata": {},
     "output_type": "execute_result"
    }
   ],
   "source": [
    "# Opened the dataset.txt file in same directory in append_mode, which retaind old data and allows to add new data\n",
    "file_obj1=open('dataset.txt','a')\n",
    "print(type(file_obj1)) #returns file-object\n",
    "file_obj1"
   ]
  },
  {
   "cell_type": "code",
   "execution_count": 15,
   "id": "609070dc-ec52-4325-809d-32db40fe19d4",
   "metadata": {},
   "outputs": [
    {
     "name": "stdout",
     "output_type": "stream",
     "text": [
      "<class '_io.TextIOWrapper'>\n"
     ]
    },
    {
     "data": {
      "text/plain": [
       "<_io.TextIOWrapper name='dataset.txt' mode='w' encoding='cp1252'>"
      ]
     },
     "execution_count": 15,
     "metadata": {},
     "output_type": "execute_result"
    }
   ],
   "source": [
    "# Opened the dataset.txt file in same directory in write_mode, which willl delete all old data in txt file\n",
    "file_obj2=open('dataset.txt','w')\n",
    "print(type(file_obj2)) #returns file-object\n",
    "file_obj2"
   ]
  },
  {
   "cell_type": "markdown",
   "id": "1dc68806-7678-4029-95f1-7093b842f758",
   "metadata": {},
   "source": [
    "# Read the file:\n"
   ]
  },
  {
   "cell_type": "code",
   "execution_count": 82,
   "id": "0c3d65ea-260d-4ab8-8935-77d0da133527",
   "metadata": {},
   "outputs": [
    {
     "name": "stdout",
     "output_type": "stream",
     "text": [
      "<class 'str'>\n"
     ]
    },
    {
     "data": {
      "text/plain": [
       "\"1 Anshuman sahoo is the best lkrvwnkvokdnvksonvokdvndkpvnpekvev.vqevnq[e0vnqevnqevmqdpvmWEV0OEWVEWVEWVE.VEPVEHVIOklnocn'wevbewvjbwojvnwoejvneoivbwnvojvenepvbqvb[wovbwvbwvjbwvwvwbvwoivnwoviwbievwojvewbvjv\\t\\twv\\teoivh\\twiev\\t'ewiv\\t'pdvn'KNDV'vwoevbi\\te;vWDKVJ.dvuweovwoeivhwo;dvh.V;oevihweoivbwe;ovibW;EUOVEUVHWEOFHP\\tIEFJ.lf;oeiwhfoewibfdjbvwvh\\teoifheifjefejwfkwenvdlvnldv dlvnevievvw\\n2 Anshuman sahoo is the bestvwvjehwvowebvweheufhoehwnC;lfoweifhweif.F\\tEWUILF\\tEFG\\tH.F\\tEL2IFUE.vuWEVUW G.WEFEFWE\\n3 Anshuman sahoo is the bestWEFWEFWEFWE.FWEFA.REHTEYRJRJTJSTRJEJSJ.YTJSRYJJRSYJYRJ SRYJS SR SJSRJ R.JS RJ.TJ STJSRJJY SRJSSRYJYRJ\\n4 Anshuman sahoo is the bestj ewifjwoeijwhwefqwj;eofih .we;fhwe;worghr.gl h;woirha.h aihoiwhg2oihggh.wh wrgwrgrgr\\n5 Anshuman sahoo is the bestgrgqrgwrgrwg.qwrgwrqgporgjp ojporjgrogjpqworgj3poqrgm , r.gqrgokqrgq[ gqg\\n6 Anshuman sahoo is the bestgqgqjpgjqpgoj'kmv;asnv'ergj'rphg'qrng;agja[rkrgrgrw,gq3rgqorijgpowgreg.rganbeirlhgrb\\n7 Anshuman sahoo is the bestwrg;orgjpwrojgpbjerpojpreoebegqrg.wrgrgerhe,hregqrgWgaerbrbg.sethr\\n\\n\\n\""
      ]
     },
     "execution_count": 82,
     "metadata": {},
     "output_type": "execute_result"
    }
   ],
   "source": [
    "# Opened the dataset.txt file in same directory in read_mode which is default\n",
    "file_obj=open('dataset.txt','r')\n",
    "#To read the file-object:\n",
    "file_data=file_obj.read() #This will read entire content of the file\n",
    "print(type(file_data)) #getting data as string\n",
    "file_data"
   ]
  },
  {
   "cell_type": "code",
   "execution_count": 54,
   "id": "b7af4d5f-aa00-4199-bfda-b409d4e1d421",
   "metadata": {},
   "outputs": [
    {
     "name": "stdout",
     "output_type": "stream",
     "text": [
      "<class 'str'>\n"
     ]
    },
    {
     "data": {
      "text/plain": [
       "'1 Anshuman'"
      ]
     },
     "execution_count": 54,
     "metadata": {},
     "output_type": "execute_result"
    }
   ],
   "source": [
    "# Opened the dataset.txt file in same directory in read_mode which is default\n",
    "file_obj=open('dataset.txt')\n",
    "#To read the file-object:\n",
    "file_data=file_obj.read(10) #This will read 10 bytes content in the file\n",
    "print(type(file_data)) #getting data as string\n",
    "file_data"
   ]
  },
  {
   "cell_type": "code",
   "execution_count": 81,
   "id": "3829367f-edfe-4214-be7e-009b6ef6cf20",
   "metadata": {},
   "outputs": [
    {
     "name": "stdout",
     "output_type": "stream",
     "text": [
      "<class 'str'>\n",
      "1 Anshuman sahoo is the best lkrvwnkvokdnvksonvokdvndkpvnpekvev.vqevnq[e0vnqevnqevmqdpvmWEV0OEWVEWVEWVE.VEPVEHVIOklnocn'wevbewvjbwojvnwoejvneoivbwnvojvenepvbqvb[wovbwvbwvjbwvwvwbvwoivnwoviwbievwojvewbvjv\t\twv\teoivh\twiev\t'ewiv\t'pdvn'KNDV'vwoevbi\te;vWDKVJ.dvuweovwoeivhwo;dvh.V;oevihweoivbwe;ovibW;EUOVEUVHWEOFHP\tIEFJ.lf;oeiwhfoewibfdjbvwvh\teoifheifjefejwfkwenvdlvnldv dlvnevievvw\n",
      "\n",
      "2 Anshuman sahoo is the bestvwvjehwvowebvweheufhoehwnC;lfoweifhweif.F\tEWUILF\tEFG\tH.F\tEL2IFUE.vuWEVUW G.WEFEFWE\n",
      "\n",
      "3 Anshuman sahoo is the bestWEFWEFWEFWE.FWEFA.REHTEYRJRJTJSTRJEJSJ.YTJSRYJJRSYJYRJ SRYJS SR SJSRJ R.JS RJ.TJ STJSRJJY SRJSSRYJYRJ\n",
      "\n",
      "4 Anshuman\n"
     ]
    }
   ],
   "source": [
    "# Opened the dataset.txt file in same directory in read_mode which is default\n",
    "file_obj=open('dataset.txt','r')\n",
    "#To read the file-object:\n",
    "file_data=file_obj.readline() #This will read 1st line-paragraph of the content in the file\n",
    "print(type(file_data)) \n",
    "print(file_data)\n",
    "print(file_obj.readline()) #Agin used to then read the nec=xt line-para of the content\n",
    "print(file_obj.readline())\n",
    "print(file_obj.readline(10)) #also takes arguments for bytes to be read the content only at line-paragraph at which this function is currently standing"
   ]
  },
  {
   "cell_type": "code",
   "execution_count": 80,
   "id": "4b120d48-b33f-43c6-ab31-e355b7d5a12f",
   "metadata": {},
   "outputs": [
    {
     "name": "stdout",
     "output_type": "stream",
     "text": [
      "Lorem ipsum dolor sit amet, consectetur adipiscing elit. Vivamus condimentum sagittis lacus, laoreet luctus ligula laoreet ut. Vestibulum ullamcorper accumsan velit vel vehicula. Proin tempor lacus arcu. Nunc at elit condimentum, semper nisi et, condimentum mi. In venenatis blandit nibh at sollicitudin. Vestibulum dapibus mauris at orci maximus pellentesque. Nullam id elementum ipsum. Suspendisse cursus lobortis viverra. Proin et erat at mauris tincidunt porttitor vitae ac dui.\n",
      "\n",
      "Donec vulputate lorem tortor, nec fermentum nibh bibendum vel. Lorem ipsum dolor sit amet, consectetur adipiscing elit. Praesent dictum luctus massa, non euismod lacus. Pellentesque condimentum dolor est, ut dapibus lectus luctus ac. Ut sagittis commodo arcu. Integer nisi nulla, facilisis sit amet nulla quis, eleifend suscipit purus. Class aptent taciti sociosqu ad litora torquent per conubia nostra, per inceptos himenaeos. Aliquam euismod ultrices lorem, sit amet imperdiet est tincidunt vel. Phasellus dictum justo sit amet ligula varius aliquet auctor et metus. Fusce vitae tortor et nisi pulvinar vestibulum eget in risus. Donec ante ex, placerat a lorem eget, ultricies bibendum purus. Nam sit amet neque non ante laoreet rutrum. Nullam aliquet commodo urna, sed ullamcorper odio feugiat id. Mauris nisi sapien, porttitor in condimentum nec, venenatis eu urna. Pellentesque feugiat diam est, at rhoncus orci porttitor non.\n",
      "\n",
      "Nulla luctus sem sit amet nisi consequat, id ornare ipsum dignissim. Sed elementum elit nibh, eu condimentum orci viverra quis. Aenean suscipit vitae felis non suscipit. Suspendisse pharetra turpis non eros semper dictum. Etiam tincidunt venenatis venenatis. Praesent eget gravida lorem, ut congue diam. Etiam facilisis elit at porttitor egestas. Praesent consequat, velit non vulputate convallis, ligula diam sagittis urna, in venenatis nisi justo ut mauris. Vestibulum posuere sollicitudin mi, et vulputate nisl fringilla non. Nulla ornare pretium velit a euismod. Nunc sagittis venenatis vestibulum. Nunc sodales libero a est ornare ultricies. Sed sed leo sed orci pellentesque ultrices. Mauris sollicitudin, sem quis placerat ornare, velit arcu convallis ligula, pretium finibus nisl sapien vel sem. Vivamus sit amet tortor id lorem consequat hendrerit. Nullam at dui risus.\n",
      "\n",
      "Vestibulum ante ipsum primis in faucibus orci luctus et ultrices posuere cubilia Curae; Lorem ipsum dolor sit amet, consectetur adipiscing elit. Sed feugiat semper velit consequat facilisis. Etiam facilisis justo non iaculis dictum. Fusce turpis neque, pharetra ut odio eu, hendrerit rhoncus lacus. Nunc orci felis, imperdiet vel interdum quis, porta eu ipsum. Pellentesque dictum sem lacinia, auctor dui in, malesuada nunc. Maecenas sit amet mollis eros. Proin fringilla viverra ligula, sollicitudin viverra ante sollicitudin congue. Donec mollis felis eu libero malesuada, et lacinia risus interdum.\n",
      "\n",
      "Etiam vitae accumsan augue. Ut urna orci, malesuada ut nisi a, condimentum gravida magna. Nulla bibendum ex in vulputate sagittis. Nulla facilisi. Nullam faucibus et metus ac consequat. Quisque tempor eros velit, id mattis nibh aliquet a. Aenean tempor elit ut finibus auctor. Sed at imperdiet mauris. Vestibulum pharetra non lacus sed pulvinar. Sed pellentesque magna a eros volutpat ullamcorper. In hac habitasse platea dictumst. Donec ipsum mi, feugiat in eros sed, varius lacinia turpis. Donec vulputate tincidunt dui ac laoreet. Sed in eros dui. Pellentesque placerat tristique ligula eu finibus. Proin nec faucibus felis, eu commodo ipsum.\n",
      "\n"
     ]
    }
   ],
   "source": [
    "#(3)Problem: Print first 100 bytes\n",
    "#(4)Problem:Print first 5 lines\n",
    "file_obj=open('Sample.txt','r')\n",
    "file_dataset=file_obj.readline()\n",
    "print(file_dataset)\n",
    "print(file_obj.readline())\n",
    "print(file_obj.readline())\n",
    "print(file_obj.readline())\n",
    "print(file_obj.readline())"
   ]
  },
  {
   "cell_type": "code",
   "execution_count": 86,
   "id": "64d3c26e-0749-46c8-b108-8521e4636605",
   "metadata": {},
   "outputs": [],
   "source": [
    "#readlines():This function returns list, in them line-para are present serial wise at their respective index\n",
    "file_obj=open('Sample.txt')\n",
    "file_datasets=file_obj.readlines() #Gives list where all line-para are there\n",
    "print(type(file_datasets))\n",
    "print(len(file_datasets)) #Gives how many lines-para are present\n",
    "print(file_datasets[3]) #Individual-list can be selected\n",
    "print(file_datasets)"
   ]
  },
  {
   "cell_type": "markdown",
   "id": "0aa95a9b-2b1e-4a87-86c4-22c6d7d91da3",
   "metadata": {},
   "source": [
    "## Its is programmer responsibility to close the file under every file_operation:\n",
    "* The respective object.close used to close the open file and after close error will generate if any file operation is used but the variable can be used still."
   ]
  },
  {
   "cell_type": "code",
   "execution_count": 94,
   "id": "09016bae-34d1-49dd-a9fa-2a564d7dd5e5",
   "metadata": {},
   "outputs": [
    {
     "name": "stdout",
     "output_type": "stream",
     "text": [
      "Vestibulum ante ipsum primis in faucibus orci luctus et ultrices posuere cubilia Curae; Lorem ipsum dolor sit amet, consectetur adipiscing elit. Sed feugiat semper velit consequat facilisis. Etiam facilisis justo non iaculis dictum. Fusce turpis neque, pharetra ut odio eu, hendrerit rhoncus lacus. Nunc orci felis, imperdiet vel interdum quis, porta eu ipsum. Pellentesque dictum sem lacinia, auctor dui in, malesuada nunc. Maecenas sit amet mollis eros. Proin fringilla viverra ligula, sollicitudin viverra ante sollicitudin congue. Donec mollis felis eu libero malesuada, et lacinia risus interdum.\n",
      "\n",
      "Etiam vitae accumsan augue. Ut urna orci, malesuada ut nisi a, condimentum gravida magna. Nulla bibendum ex in vulputate sagittis. Nulla facilisi. Nullam faucibus et metus ac consequat. Quisque tempor eros velit, id mattis nibh aliquet a. Aenean tempor elit ut finibus auctor. Sed at imperdiet mauris. Vestibulum pharetra non lacus sed pulvinar. Sed pellentesque magna a eros volutpat ullamcorper. In hac habitasse platea dictumst. Donec ipsum mi, feugiat in eros sed, varius lacinia turpis. Donec vulputate tincidunt dui ac laoreet. Sed in eros dui. Pellentesque placerat tristique ligula eu finibus. Proin nec faucibus felis, eu commodo ipsum.\n",
      "\n"
     ]
    }
   ],
   "source": [
    "file_obj=open('Sample.txt')\n",
    "file_datasets=file_obj.readlines() #Gives list where all line-para are there\n",
    "file_obj.close()\n",
    "print(file_datasets[3])\n",
    "print(file_datasets[4])"
   ]
  },
  {
   "cell_type": "markdown",
   "id": "b3777b38-089c-4bc0-9970-bc0728668c90",
   "metadata": {},
   "source": [
    "## Sometime we forget to add syntax for closing the file, to avoid that we can use predefined function which will automatically close the file after use:"
   ]
  },
  {
   "cell_type": "code",
   "execution_count": 101,
   "id": "4ab939bf-fa56-4349-a00f-5038adce4744",
   "metadata": {},
   "outputs": [
    {
     "name": "stdout",
     "output_type": "stream",
     "text": [
      "Vestibulum ante ipsum primis in faucibus orci luctus et ultrices posuere cubilia Curae; Lorem ipsum dolor sit amet, consectetur adipiscing elit. Sed feugiat semper velit consequat facilisis. Etiam facilisis justo non iaculis dictum. Fusce turpis neque, pharetra ut odio eu, hendrerit rhoncus lacus. Nunc orci felis, imperdiet vel interdum quis, porta eu ipsum. Pellentesque dictum sem lacinia, auctor dui in, malesuada nunc. Maecenas sit amet mollis eros. Proin fringilla viverra ligula, sollicitudin viverra ante sollicitudin congue. Donec mollis felis eu libero malesuada, et lacinia risus interdum.\n",
      "\n",
      "Etiam vitae accumsan augue. Ut urna orci, malesuada ut nisi a, condimentum gravida magna. Nulla bibendum ex in vulputate sagittis. Nulla facilisi. Nullam faucibus et metus ac consequat. Quisque tempor eros velit, id mattis nibh aliquet a. Aenean tempor elit ut finibus auctor. Sed at imperdiet mauris. Vestibulum pharetra non lacus sed pulvinar. Sed pellentesque magna a eros volutpat ullamcorper. In hac habitasse platea dictumst. Donec ipsum mi, feugiat in eros sed, varius lacinia turpis. Donec vulputate tincidunt dui ac laoreet. Sed in eros dui. Pellentesque placerat tristique ligula eu finibus. Proin nec faucibus felis, eu commodo ipsum.\n",
      "\n"
     ]
    }
   ],
   "source": [
    "with open('Sample.txt','r') as file_obj: #during declaratoion object_variable also written simultaneuosly\n",
    "    file_datasets=file_obj.readlines() #Gives list where all line-para are there\n",
    "#As soon as we Exit from this block that indicated function to close the file\n",
    "print(file_datasets[3])\n",
    "print(file_datasets[4])\n",
    "#Outside this function,new file_operation cant be operate as that means closed file only variable can be used"
   ]
  },
  {
   "cell_type": "code",
   "execution_count": 102,
   "id": "77c60c24-b42f-4f8e-b4b5-c8471a430c7c",
   "metadata": {},
   "outputs": [
    {
     "name": "stdout",
     "output_type": "stream",
     "text": [
      "Lorem ipsum dolor sit amet, consectetur adipiscing elit. Vivamus condimentum sagittis lacus, laoreet luctus ligula laoreet ut. Vestibulum ullamcorper accumsan velit vel vehicula. Proin tempor lacus arcu. Nunc at elit condimentum, semper nisi et, condimentum mi. In venenatis blandit nibh at sollicitudin. Vestibulum dapibus mauris at orci maximus pellentesque. Nullam id elementum ipsum. Suspendisse cursus lobortis viverra. Proin et erat at mauris tincidunt porttitor vitae ac dui.\n",
      "\n",
      "Donec vulputate lorem tortor, nec fermentum nibh bibendum vel. Lorem ipsum dolor sit amet, consectetur adipiscing elit. Praesent dictum luctus massa, non euismod lacus. Pellentesque condimentum dolor est, ut dapibus lectus luctus ac. Ut sagittis commodo arcu. Integer nisi nulla, facilisis sit amet nulla quis, eleifend suscipit purus. Class aptent taciti sociosqu ad litora torquent per conubia nostra, per inceptos himenaeos. Aliquam euismod ultrices lorem, sit amet imperdiet est tincidunt vel. Phasellus dictum justo sit amet ligula varius aliquet auctor et metus. Fusce vitae tortor et nisi pulvinar vestibulum eget in risus. Donec ante ex, placerat a lorem eget, ultricies bibendum purus. Nam sit amet neque non ante laoreet rutrum. Nullam aliquet commodo urna, sed ullamcorper odio feugiat id. Mauris nisi sapien, porttitor in condimentum nec, venenatis eu urna. Pellentesque feugiat diam est, at rhoncus orci porttitor non.\n",
      "\n",
      "Nulla luctus sem sit amet nisi consequat, id ornare ipsum dignissim. Sed elementum elit nibh, eu condimentum orci viverra quis. Aenean suscipit vitae felis non suscipit. Suspendisse pharetra turpis non eros semper dictum. Etiam tincidunt venenatis venenatis. Praesent eget gravida lorem, ut congue diam. Etiam facilisis elit at porttitor egestas. Praesent consequat, velit non vulputate convallis, ligula diam sagittis urna, in venenatis nisi justo ut mauris. Vestibulum posuere sollicitudin mi, et vulputate nisl fringilla non. Nulla ornare pretium velit a euismod. Nunc sagittis venenatis vestibulum. Nunc sodales libero a est ornare ultricies. Sed sed leo sed orci pellentesque ultrices. Mauris sollicitudin, sem quis placerat ornare, velit arcu convallis ligula, pretium finibus nisl sapien vel sem. Vivamus sit amet tortor id lorem consequat hendrerit. Nullam at dui risus.\n",
      "\n",
      "Vestibulum ante ipsum primis in faucibus orci luctus et ultrices posuere cubilia Curae; Lorem ipsum dolor sit amet, consectetur adipiscing elit. Sed feugiat semper velit consequat facilisis. Etiam facilisis justo non iaculis dictum. Fusce turpis neque, pharetra ut odio eu, hendrerit rhoncus lacus. Nunc orci felis, imperdiet vel interdum quis, porta eu ipsum. Pellentesque dictum sem lacinia, auctor dui in, malesuada nunc. Maecenas sit amet mollis eros. Proin fringilla viverra ligula, sollicitudin viverra ante sollicitudin congue. Donec mollis felis eu libero malesuada, et lacinia risus interdum.\n",
      "\n",
      "Etiam vitae accumsan augue. Ut urna orci, malesuada ut nisi a, condimentum gravida magna. Nulla bibendum ex in vulputate sagittis. Nulla facilisi. Nullam faucibus et metus ac consequat. Quisque tempor eros velit, id mattis nibh aliquet a. Aenean tempor elit ut finibus auctor. Sed at imperdiet mauris. Vestibulum pharetra non lacus sed pulvinar. Sed pellentesque magna a eros volutpat ullamcorper. In hac habitasse platea dictumst. Donec ipsum mi, feugiat in eros sed, varius lacinia turpis. Donec vulputate tincidunt dui ac laoreet. Sed in eros dui. Pellentesque placerat tristique ligula eu finibus. Proin nec faucibus felis, eu commodo ipsum.\n",
      "\n"
     ]
    }
   ],
   "source": [
    "#Problems:\n",
    "#6: read first 5 line and print them:\n",
    "\n",
    "with open('Sample.txt','r') as file_obj:\n",
    "    for i in range(5):\n",
    "        print(file_obj.readline())"
   ]
  },
  {
   "cell_type": "markdown",
   "id": "242a33c5-3879-4065-9ea3-401ecbcc4476",
   "metadata": {},
   "source": [
    "# CSV Files: Comma separeted value\n",
    "* Any programming lang which can deal any text file can easily deal with CSV files.\n",
    "* CSV firmate generakky used where we have to handle large amount of Data and Import and export data from one point to another point ,from one database to some other person\n"
   ]
  },
  {
   "cell_type": "code",
   "execution_count": 111,
   "id": "e509e970-2604-4a72-82bc-98669aa63beb",
   "metadata": {},
   "outputs": [
    {
     "name": "stdout",
     "output_type": "stream",
     "text": [
      "<class 'list'>\n",
      "['Year,Month,Day,Country,Region,city,latitude,longitude,AttackType,Killed,Wounded,Target,Group,Target_type,Weapon_type,casualities\\n', '2017,1,2,Afghanistan,South Asia,Takhta Pul,31.320556,65.961111,Hostage Taking (Kidnapping),0,0,Construction Workers,Taliban,Business,Firearms,0\\n', '2017,1,3,Sudan,Sub-Saharan Africa,Fantaga,12.921007,24.318324,Armed Assault,2,0,\"Civilians: Haroun Yousif, Hamid Ibrahim\",Unknown,Private Citizens & Property,Firearms,2\\n', '2017,1,1,Democratic Republic of the Congo,Sub-Saharan Africa,Saboko,1.452372,29.875162,Armed Assault,7,0,Village,Allied Democratic Forces (ADF),Private Citizens & Property,Melee,7\\n', '2017,1,1,Democratic Republic of the Congo,Sub-Saharan Africa,Bialee,1.45237,29.875186,Armed Assault,7,0,Village,Allied Democratic Forces (ADF),Private Citizens & Property,Melee,7\\n']\n"
     ]
    }
   ],
   "source": [
    "with open('year2017.csv','r') as file_obj:\n",
    "    file_data=file_obj.readlines()\n",
    "    print(type(file_data))\n",
    "    print(file_data[:5]) #to print first 4 lines\n",
    "#Problem of using predefined read-functions for txt files in csv is that they donot seoarate the coloms, they just show them in paras just like txt \n"
   ]
  },
  {
   "cell_type": "markdown",
   "id": "f0d9f564-69e7-41f9-983f-01313b130c68",
   "metadata": {},
   "source": [
    "## Above problem can be tackled by using CSV library and use there function"
   ]
  },
  {
   "cell_type": "code",
   "execution_count": 197,
   "id": "661c69b4-2ebb-433f-af63-d721a34eac9e",
   "metadata": {},
   "outputs": [
    {
     "name": "stdout",
     "output_type": "stream",
     "text": [
      "<class '_csv.reader'>\n",
      "<_csv.reader object at 0x000001226E5EFFA0>\n"
     ]
    }
   ],
   "source": [
    "import csv\n",
    "with open('year2017.csv','r') as file_obj:\n",
    "    file_data=csv.reader(file_obj)\n",
    "    #Now below would print all the rows\n",
    "    for row in file_data:\n",
    "            print(row) #The difference came from using txt that, csv separetes each data with by putting in a string in the row as it does this based upon commas,which increase readenility          \n",
    "    \n",
    "print(type(file_data))\n",
    "print(file_data)"
   ]
  },
  {
   "cell_type": "code",
   "execution_count": 135,
   "id": "2ac69e4a-1a2e-4bcc-8682-e6eab9b2c6b7",
   "metadata": {},
   "outputs": [
    {
     "name": "stdout",
     "output_type": "stream",
     "text": [
      "[' Anshuman', ' is', ' best', ' 12', ' 34']\n",
      "[' Anshuman', ' is', ' batman', ' foreever']\n",
      "[' ANshuman ', ' is  ', ' Handsome ', ' man', '']\n"
     ]
    }
   ],
   "source": [
    "#If while using above operation, if our datasets contains \"|\" this symbol in place of comma to separte, then it gives problem to above operator\n",
    "#For this problem we are using:\n",
    "import csv\n",
    "with open('Delimmiter.txt','r') as file_obj:\n",
    "    file_data=csv.reader(file_obj,delimiter='|')#This will make the operator capable to make string-data on the basis of \"|\" symbol any other symbol used in datasets for separating the data can be used here\n",
    "    \n",
    "    for row in file_data:\n",
    "        print(row)\n"
   ]
  },
  {
   "cell_type": "code",
   "execution_count": 255,
   "id": "0fbc33df-513e-46dc-ab28-1d8d8ae9b141",
   "metadata": {},
   "outputs": [
    {
     "name": "stdout",
     "output_type": "stream",
     "text": [
      "['Anshuman', 'is', 'best', '12', '34']\n",
      "best\n",
      "['Anshuman', 'is', 'batman', 'foreever']\n",
      "batman\n",
      "['ANshuman ', 'is  ', 'Handsome ', 'man', '']\n",
      "Handsome \n"
     ]
    }
   ],
   "source": [
    "#Now here issue comes in above, that after every , there is one tab space before enitiy inside 'qotation' depends on datasets(Maam is using 2017 dataset that's why)but should know how to tackle with those issues, which will create chaos while converting into int or float\n",
    "#We have to remove those spaces by using \"skipinitialspace=True\",its default value is false\n",
    "\n",
    "import csv\n",
    "with open('Delimmiter.txt','r') as file_obj:\n",
    "    file_data=csv.reader(file_obj,delimiter='|',skipinitialspace=True)\n",
    "    for row in file_data:\n",
    "        print(row)\n",
    "        print(row[])"
   ]
  },
  {
   "cell_type": "code",
   "execution_count": 306,
   "id": "f9edca8d-4149-46c5-9efd-d92d13a68102",
   "metadata": {},
   "outputs": [
    {
     "name": "stdout",
     "output_type": "stream",
     "text": [
      "<class 'list'>\n",
      "[['Anshuman', 'is', 'best', '12', '34'], ['Anshuman', 'is', 'batman', 'foreever'], ['ANshuman ', 'is  ', 'Handsome ', 'man', '']]\n",
      "['Anshuman', 'is', 'best', '12', '34']\n",
      "['Anshuman', 'is', 'batman', 'foreever']\n",
      "['ANshuman ', 'is  ', 'Handsome ', 'man', '']\n"
     ]
    }
   ],
   "source": [
    "#Here we would write how to club all list into a big list: using list() function\n",
    "import csv\n",
    "with open('Delimmiter.txt','r') as file_obj:\n",
    "    file_data=csv.reader(file_obj,delimiter='|',skipinitialspace=True)\n",
    "    \n",
    "    file_list=list(file_data)#This would club all the lists into single lists\n",
    "    print(type(file_list))\n",
    "    print(file_list)\n",
    "   \n",
    "    for row in file_list: #Would print them just like file_data but stores evry thing in single list, storage difference b/w file_list and file_data\n",
    "        print(row)"
   ]
  },
  {
   "cell_type": "code",
   "execution_count": 291,
   "id": "e46ecf84-6783-45d0-9933-988219b94546",
   "metadata": {},
   "outputs": [
    {
     "name": "stdout",
     "output_type": "stream",
     "text": [
      "2017 1 2 Afghanistan South Asia Takhta Pul 31.320556 65.961111 Hostage Taking (Kidnapping) 0 0 Construction Workers Taliban Business Firearms 0 \n",
      "2017 1 3 Sudan Sub-Saharan Africa Fantaga 12.921007 24.318324 Armed Assault 2 0 Civilians: Haroun Yousif, Hamid Ibrahim Unknown Private Citizens & Property Firearms 2 \n",
      "2017 1 1 Democratic Republic of the Congo Sub-Saharan Africa Saboko 1.452372 29.875162 Armed Assault 7 0 Village Allied Democratic Forces (ADF) Private Citizens & Property Melee 7 \n"
     ]
    }
   ],
   "source": [
    "# Problem:9 :to print first 3 row of 2017 dataset excluding header with space between the datas\n",
    "import csv\n",
    "with open('year2017.csv','r') as file_obj:\n",
    "    file_data=csv.reader(file_obj) #file_data is not a list means list operation can not be played on it but inside it every single-row is sinle list\n",
    "    arr=[]\n",
    "    for row in file_data:\n",
    "            arr.append(row)\n",
    "    for i in range(1,4):\n",
    "        for j in range(16):\n",
    "            print(arr[i][j],end=\" \")#Hence printed first three rows of the dataset excluding the haeding\n",
    "        print()"
   ]
  },
  {
   "cell_type": "code",
   "execution_count": 355,
   "id": "9e90b3fd-24eb-41ea-a766-752107e5614b",
   "metadata": {},
   "outputs": [
    {
     "name": "stdout",
     "output_type": "stream",
     "text": [
      "Killed\n",
      "0\n",
      "2\n",
      "7\n",
      "7\n",
      "39\n",
      "4\n",
      "1\n",
      "0\n",
      "0\n",
      "\n",
      "0\n",
      "2\n",
      "7\n",
      "7\n",
      "39\n",
      "4\n",
      "1\n",
      "0\n",
      "0\n",
      "0\n",
      "26445\n"
     ]
    }
   ],
   "source": [
    "#Printing only a specefic coloumn :Killed coloumn\n",
    "import csv\n",
    "with open('year2017.csv','r') as file_obj:\n",
    "    file_data=csv.reader(file_obj,skipinitialspace=True)#Always use skipintialspace=Ture,so that no confusion comes while ty[ecasting in future]\n",
    "    file_list=list(file_data) #Each index is list of data of row in file_list\n",
    "\n",
    "    # M1\n",
    "    for i in range(10):\n",
    "        print(file_list[i][9])\n",
    "    print()\n",
    "    \n",
    "    #M2\n",
    "    killed=[] #Saving inside another list\n",
    "    for row in file_list[1:]:\n",
    "        val=row[9]\n",
    "        if val!='': #So that no empyt data comes in the list, as that empty  data doesnot support typecast,as all the data are already instring we have to convert them into int to find the sum\n",
    "            killed.append(int(val))#haatho haath typecast bhi kr diya\n",
    "    # Print killed[]\n",
    "    for i in killed[:10]:\n",
    "        print(i) \n",
    "#Printing the sum of the datas in particular coloumn: total Killed perosn    \n",
    "    sum=0    \n",
    "    for i in killed:\n",
    "        sum+=i\n",
    "    print(sum)\n",
    "        \n",
    "    # #M3\n",
    "    # killed2=[]\n",
    "    # for row in file_data: #This will not work currently as file_data is no more conerted into list\n",
    "    #     if row[9]!='':\n",
    "    #         killed2.append(row[9])\n",
    "    # #Print killed2[]\n",
    "    # for i in killed2[:10]:\n",
    "    #     print(i)"
   ]
  },
  {
   "cell_type": "code",
   "execution_count": 354,
   "id": "02fa313a-7e16-4ab6-8003-b24a65c7f02f",
   "metadata": {},
   "outputs": [
    {
     "name": "stdout",
     "output_type": "stream",
     "text": [
      "Total wounded poeple: 702\n"
     ]
    }
   ],
   "source": [
    "#Problem 13: Print total number if wounded people while it is having some missing value \n",
    "#Problem 14:And they should be frpom India\n",
    "import csv\n",
    "with open('year2017.csv','r') as file_obj:\n",
    "    file_data=csv.reader(file_obj,skipinitialspace=True)\n",
    "    file_list=list(file_data)\n",
    "    \n",
    "    wounded=[]\n",
    "    for row in file_list[1:]:\n",
    "        val=row[10]\n",
    "        if val!='' and row[3]==\"India\":\n",
    "            wounded.append(int(val))\n",
    "    sum=0\n",
    "    for i in wounded:\n",
    "        sum+=i\n",
    "    print(\"Total wounded poeple:\",sum)"
   ]
  },
  {
   "cell_type": "markdown",
   "id": "55da2811-a123-44f3-8e6c-318bd6b09352",
   "metadata": {},
   "source": [
    "### We could conert the list inside the CSV into Dictionary type: CSV.DictReader(), in which key would be the coloumn header and value would be there corresponding data\n"
   ]
  },
  {
   "cell_type": "code",
   "execution_count": 371,
   "id": "651f7eac-4803-4ae4-bf04-0e22e5510705",
   "metadata": {},
   "outputs": [],
   "source": [
    "import csv\n",
    "with open('year2017.csv','r') as file_obj:\n",
    "    file_data=csv.DictReader(file_obj,skipinitialspace=True,)\n",
    "\n",
    "    for row in file_data:\n",
    "        print(row) #Key is coloumnHeader and value is coloumnData\n"
   ]
  },
  {
   "cell_type": "code",
   "execution_count": 365,
   "id": "c9f8540d-8e85-4148-8476-29019654d73e",
   "metadata": {},
   "outputs": [],
   "source": [
    "import csv\n",
    "with open('year2017.csv','r') as file_obj:\n",
    "#We can customize our header or key value by:  fieldnames=('a','b','c') and for those we havenot given the the name,they will not have a key and all will be inside a list inside the edict like this-> None:[inside this]\n",
    "    file_data=csv.DictReader(file_obj,skipinitialspace=True, fieldnames=('a','b','c'))\n",
    "    \n",
    "    for row in file_data:\n",
    "        print(row) #Key is coloumnHeader and value is coloumnData fieldnames=('a','b','c')\n"
   ]
  },
  {
   "cell_type": "code",
   "execution_count": 380,
   "id": "01a1f3d8-872e-4246-8148-c43dbda833aa",
   "metadata": {},
   "outputs": [],
   "source": [
    "#Example to print the value of weapon coloumn:import csv\n",
    "with open('year2017.csv','r') as file_obj:\n",
    "    file_data=csv.DictReader(file_obj,skipinitialspace=True)\n",
    "    \n",
    "    for row in file_data:\n",
    "        print(row['Weapon_type'])"
   ]
  },
  {
   "cell_type": "code",
   "execution_count": 388,
   "id": "a08b2246-88bf-445d-bc36-8bf8bcb84cbf",
   "metadata": {},
   "outputs": [
    {
     "name": "stdin",
     "output_type": "stream",
     "text": [
      " India\n"
     ]
    },
    {
     "name": "stdout",
     "output_type": "stream",
     "text": [
      "465\n"
     ]
    }
   ],
   "source": [
    "#Wanted to know from which country total how many people killed:\n",
    "#Method:1\n",
    "import csv\n",
    "with open('year2017.csv','r') as file_obj:\n",
    "    file_data=csv.reader(file_obj,skipinitialspace=True)\n",
    "    file_list=list(file_data)\n",
    "    sum=0\n",
    "    countryName=input()\n",
    "    killed=[]\n",
    "    for row in file_list[1:]:\n",
    "        if(row[3]==countryName and row[9]!=''):\n",
    "            killed.append(int(row[9]))\n",
    "    \n",
    "    for i in killed:\n",
    "        sum+=i\n",
    "    print(sum)\n"
   ]
  },
  {
   "cell_type": "code",
   "execution_count": 404,
   "id": "f21124b4-1c65-4bcf-8387-8f97d384404a",
   "metadata": {},
   "outputs": [
    {
     "name": "stderr",
     "output_type": "stream",
     "text": [
      "IOPub data rate exceeded.\n",
      "The Jupyter server will temporarily stop sending output\n",
      "to the client in order to avoid crashing it.\n",
      "To change this limit, set the config variable\n",
      "`--ServerApp.iopub_data_rate_limit`.\n",
      "\n",
      "Current values:\n",
      "ServerApp.iopub_data_rate_limit=1000000.0 (bytes/sec)\n",
      "ServerApp.rate_limit_window=3.0 (secs)\n",
      "\n"
     ]
    }
   ],
   "source": [
    "#Method:2 for the above question using dictianary \n",
    "import csv\n",
    "with open('year2017.csv','r') as file_obj:\n",
    "    file_data=csv.DictReader(file_obj,skipinitialspace=True)\n",
    "    file_list=list(file_data)\n",
    "    \n",
    "CountryKilled={}\n",
    "for row in file_list:\n",
    "    key=row['Country']\n",
    "    value=row['Killed']\n",
    "    \n",
    "    #Now check whether there is missing value or not and do typecasting\n",
    "    if value!='':\n",
    "        value=int(float(value)) #This is bcz string is already in decimal like:'44.0' for this we have first convert into float and then int to avoid error\n",
    "    else :\n",
    "        value=0\n",
    "    \n",
    "    #Now add the key and value in dictionary:\n",
    "    #first check if key is present inside the dictionary or not:\n",
    "    if key in CountryKilled:\n",
    "        CountryKilled[key]+=value\n",
    "    else:\n",
    "        CountryKilled[key]=value\n",
    "   #Now print our Dictionary :\n",
    "    print(CountryKilled)"
   ]
  }
 ],
 "metadata": {
  "kernelspec": {
   "display_name": "Python 3 (ipykernel)",
   "language": "python",
   "name": "python3"
  },
  "language_info": {
   "codemirror_mode": {
    "name": "ipython",
    "version": 3
   },
   "file_extension": ".py",
   "mimetype": "text/x-python",
   "name": "python",
   "nbconvert_exporter": "python",
   "pygments_lexer": "ipython3",
   "version": "3.10.9"
  }
 },
 "nbformat": 4,
 "nbformat_minor": 5
}
